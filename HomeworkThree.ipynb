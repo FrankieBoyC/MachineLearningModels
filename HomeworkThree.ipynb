{
  "nbformat": 4,
  "nbformat_minor": 0,
  "metadata": {
    "colab": {
      "provenance": [],
      "authorship_tag": "ABX9TyO+gTkTuKnttnroL2U2TEdy",
      "include_colab_link": true
    },
    "kernelspec": {
      "name": "python3",
      "display_name": "Python 3"
    },
    "language_info": {
      "name": "python"
    }
  },
  "cells": [
    {
      "cell_type": "markdown",
      "metadata": {
        "id": "view-in-github",
        "colab_type": "text"
      },
      "source": [
        "<a href=\"https://colab.research.google.com/github/FrankieBoyC/MachineLearningModels/blob/main/HomeworkThree.ipynb\" target=\"_parent\"><img src=\"https://colab.research.google.com/assets/colab-badge.svg\" alt=\"Open In Colab\"/></a>"
      ]
    },
    {
      "cell_type": "code",
      "execution_count": null,
      "metadata": {
        "id": "dXOvOCEO1o3-"
      },
      "outputs": [],
      "source": [
        "from google.colab import drive\n",
        "drive.mount('/content/drive')"
      ]
    },
    {
      "cell_type": "code",
      "source": [
        "import pandas as pd\n",
        "import matplotlib.pyplot as plt\n",
        "from sklearn.linear_model import LinearRegression\n",
        "from sklearn.model_selection import train_test_split\n",
        "from sklearn.metrics import accuracy_score\n",
        "from sklearn.metrics import mean_squared_error, r2_score\n",
        "\n",
        "path = \"/content/drive/MyDrive/CSV/abalone.csv\"\n",
        "df = pd.read_csv(path, header = None).rename(columns=df.iloc[0]).drop(df.index[0])\n",
        "# Changing Column Names\n",
        "df"
      ],
      "metadata": {
        "id": "sja428eG2Br4"
      },
      "execution_count": null,
      "outputs": []
    },
    {
      "cell_type": "code",
      "source": [
        "# Exploring the Data\n",
        "df.head()\n",
        "df.describe()\n",
        "df.info()\n",
        "df.shape\n",
        "\n",
        "df"
      ],
      "metadata": {
        "id": "LM5hryxhW-6O"
      },
      "execution_count": null,
      "outputs": []
    },
    {
      "cell_type": "code",
      "source": [
        "# Data Preperation\n",
        "# Checking for Null Values\n",
        "df.isnull().sum()"
      ],
      "metadata": {
        "id": "Za_g9UlBX918"
      },
      "execution_count": null,
      "outputs": []
    },
    {
      "cell_type": "code",
      "source": [
        "# Estimate the Number of Clusters\n",
        "df\n",
        "df_Short = df.drop(['Sex', 'Rings'], axis=1)\n",
        "df_Short.head()\n",
        "\n",
        "from sklearn.cluster import KMeans\n",
        "\n",
        "data = list(zip(df['Length'], df['Diameter']))\n",
        "inertias = []\n",
        "\n",
        "for i in range(1,11):\n",
        "    kmeans = KMeans(n_clusters=i)\n",
        "    kmeans.fit(data)\n",
        "    inertias.append(kmeans.inertia_)\n",
        "\n",
        "plt.plot(range(1,11), inertias, marker='o')\n",
        "plt.title('Elbow method')\n",
        "plt.xlabel('Number of clusters')\n",
        "plt.ylabel('Inertia')\n",
        "plt.show()"
      ],
      "metadata": {
        "id": "wyq9YAswd2L7"
      },
      "execution_count": null,
      "outputs": []
    },
    {
      "cell_type": "code",
      "source": [
        "# Computer Clustering\n",
        "# K-Means Clustering\n",
        "from sklearn.datasets import make_blobs\n",
        "from seaborn.utils import plt\n",
        "from sklearn.cluster import KMeans\n",
        "\n",
        "X2, y2 = make_blobs(n_samples=200, centers=3,\n",
        "                       cluster_std=0.50, random_state=0)\n",
        "\n",
        "plt.scatter(X2[:, 0], X2[:, 1], s=50,alpha=0.5, cmap='viridis')\n",
        "\n",
        "# Hiearchal Clustering\n",
        "from sklearn.cluster import AgglomerativeClustering\n",
        "\n",
        "cluster = AgglomerativeClustering(\n",
        "    n_clusters=3, affinity='euclidean', linkage='ward')\n",
        "\n",
        "cluster.fit(df_Short)\n",
        "labels = cluster.labels_\n",
        "labels\n",
        "df"
      ],
      "metadata": {
        "id": "LZdWvv5KSBdY"
      },
      "execution_count": null,
      "outputs": []
    },
    {
      "cell_type": "code",
      "source": [
        "# Logistic Regression\n",
        "df_shorter = df.drop(['Sex', 'Rings'], axis=1)\n",
        "\n",
        "X = df_shorter\n",
        "\n",
        "y = df['Rings']\n",
        "X_train, X_test, y_train, y_test = train_test_split(X, y, test_size=0.3, random_state=42)\n",
        "# Splitting the Dataset\n",
        "X_train, X_test, y_train, y_test = train_test_split(X, y, test_size= 0.33, random_state= 101)\n",
        "\n",
        "# Instantiating LinearRegression() Model\n",
        "lr = LinearRegression()\n",
        "\n",
        "# Training/Fitting the Model\n",
        "lr.fit(X_train, y_train)\n",
        "\n",
        "# Making Predictions\n",
        "lr.predict(X_test)\n",
        "pred = lr.predict(X_test)\n",
        "\n",
        "print(pred)"
      ],
      "metadata": {
        "id": "kSELygWXUn3d"
      },
      "execution_count": null,
      "outputs": []
    },
    {
      "cell_type": "code",
      "source": [
        "# Evaluating Results\n",
        "train_mse = mean_squared_error(y_train, train_predictions)\n",
        "test_mse = mean_squared_error(y_test, test_predictions)\n",
        "\n",
        "train_r2 = r2_score(y_train, train_predictions)\n",
        "test_r2 = r2_score(y_test, test_predictions)\n",
        "\n",
        "print(\"Train MSE:\", train_mse)\n",
        "print(\"Test MSE:\", test_mse)\n",
        "\n",
        "print(\"Train R-squared:\", train_r2)\n",
        "print(\"Test R-squared:\", test_r2)"
      ],
      "metadata": {
        "id": "gQ-jJszAwVkV"
      },
      "execution_count": null,
      "outputs": []
    },
    {
      "cell_type": "code",
      "source": [
        "# Visualization\n",
        "plt.scatter(X_train.iloc[:, 0], y_train, color='g')  # Assuming X_train is a DataFrame, select the first column\n",
        "plt.show()"
      ],
      "metadata": {
        "id": "Brw7Ow2LxUT3"
      },
      "execution_count": null,
      "outputs": []
    }
  ]
}